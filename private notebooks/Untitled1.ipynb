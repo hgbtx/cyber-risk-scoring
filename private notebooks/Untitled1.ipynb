{
 "cells": [
  {
   "cell_type": "code",
   "execution_count": 2,
   "id": "3270c976-dfb4-453b-b7fe-3d5091a09de3",
   "metadata": {},
   "outputs": [
    {
     "ename": "NameError",
     "evalue": "name 'd1' is not defined",
     "output_type": "error",
     "traceback": [
      "\u001b[31m---------------------------------------------------------------------------\u001b[39m",
      "\u001b[31mNameError\u001b[39m                                 Traceback (most recent call last)",
      "\u001b[36mCell\u001b[39m\u001b[36m \u001b[39m\u001b[32mIn[2]\u001b[39m\u001b[32m, line 8\u001b[39m\n\u001b[32m      5\u001b[39m \u001b[38;5;28;01mimport\u001b[39;00m\u001b[38;5;250m \u001b[39m\u001b[34;01mjson\u001b[39;00m\n\u001b[32m      7\u001b[39m \u001b[38;5;66;03m# UI Dataframes: d1, d2, mom, heatmap_table, severity_counts_df\u001b[39;00m\n\u001b[32m----> \u001b[39m\u001b[32m8\u001b[39m scores = pd.merge(d1,d2,how=\u001b[33m'\u001b[39m\u001b[33minner\u001b[39m\u001b[33m'\u001b[39m,on=[\u001b[33m'\u001b[39m\u001b[33mcpeName\u001b[39m\u001b[33m'\u001b[39m,\u001b[33m'\u001b[39m\u001b[33mTitle\u001b[39m\u001b[33m'\u001b[39m])\n\u001b[32m      9\u001b[39m scores.sort_values(by=\u001b[33m'\u001b[39m\u001b[33mriskScore\u001b[39m\u001b[33m'\u001b[39m).head(\u001b[32m10\u001b[39m)\n\u001b[32m     11\u001b[39m cves = pd.read_csv(\u001b[33m'\u001b[39m\u001b[33m../data/vuln_catalogue_v2.csv\u001b[39m\u001b[33m'\u001b[39m)\n",
      "\u001b[31mNameError\u001b[39m: name 'd1' is not defined"
     ]
    }
   ],
   "source": [
    "from openai import OpenAI\n",
    "import os\n",
    "import pandas as pd\n",
    "from IPython.display import Markdown, display\n",
    "import json\n",
    "\n",
    "# Config\n",
    "api_key = os.getenv(\"OPENAI_API_KEY\")\n",
    "if not api_key:\n",
    "    raise RuntimeError(\"API key not set.\")\n",
    "client = OpenAI(api_key=api_key)\n",
    "\n",
    "# UI Dataframes: d1, d2, mom, heatmap_table, severity_counts_df\n",
    "scores = pd.merge(d1,d2,how='inner',on=['cpeName','Title'])\n",
    "scores.sort_values(by='riskScore').head(10)\n",
    "\n",
    "cves = pd.read_csv('../data/vuln_catalogue_v2.csv')\n",
    "df = pd.merge(cves,scores, how='inner', on=['Title','cpeName','cveID'])\n",
    "top10 = df.copy()\n",
    "top10.drop(columns=['Unnamed: 0', 'sid', 'WrittenAt','last_modified', 'vectorString', \n",
    "           'privilegesRequired', 'userInteraction', 'scope', 'integrityImpact', \n",
    "           'cwes', 'references', 'tags', 'full_json'], inplace=True,axis=1)\n",
    "records = top10.to_dict(orient='records')\n",
    "\n",
    "\n",
    "def explain_top_risks(df, client):\n",
    "    risks_json = json.dumps(records, indent=2)\n",
    "\n",
    "    # Construct the system and user prompts\n",
    "    system_prompt = (\n",
    "        \"You are a cybersecurity expert specializing in vulnerability risk analysis \"\n",
    "        \"and mitigation planning with a focus on NIST's Cybersecurity Framework 2.0.\"\n",
    "    )\n",
    "\n",
    "    user_prompt = (\n",
    "        \"Below is a list of the 10 highest-risk vulnerabilities (CVEs) affecting my assets. \"\n",
    "        \"For each item, do the following:\\n\"\n",
    "        \"1. Briefly explain why this CVE poses a high risk based on its details.\\n\"\n",
    "        \"2. Suggest concise, actionable mitigation steps or best practices.\\n\"\n",
    "        \"Generate a report memo with only the subject line in the memo header,\"\n",
    "        \"Present the output as a numbered list. Here are the vulnerabilities:\\n\"\n",
    "        f\"{risks_json}\"\n",
    "    )\n",
    "\n",
    "    # Send to OpenAI\n",
    "    response = client.chat.completions.create(\n",
    "        model=\"gpt-4o\",\n",
    "        messages=[\n",
    "            {\"role\": \"system\", \"content\": system_prompt},\n",
    "            {\"role\": \"user\", \"content\": user_prompt}\n",
    "        ],\n",
    "        max_tokens=1000,\n",
    "        temperature=0.2\n",
    "    )\n",
    "    return response.choices[0].message.content\n",
    "\n",
    "# Now, call the function and store the result\n",
    "top_risks = explain_top_risks(df, client)\n",
    "\n",
    "with open(\"../markdown/top_risks.md\", \"w\", encoding=\"utf-8\") as f:\n",
    "    f.write(top_risks)\n",
    "\n",
    "with open(\"../markdown/top_risks.md\", \"r\", encoding=\"utf-8\") as f:\n",
    "    md_content = f.read()\n",
    "\n",
    "display(Markdown(md_content))"
   ]
  },
  {
   "cell_type": "code",
   "execution_count": null,
   "id": "339cf4c5-504a-40ff-8be5-5410f0a941a9",
   "metadata": {},
   "outputs": [],
   "source": []
  }
 ],
 "metadata": {
  "kernelspec": {
   "display_name": "Python 3 (ipykernel)",
   "language": "python",
   "name": "python3"
  },
  "language_info": {
   "codemirror_mode": {
    "name": "ipython",
    "version": 3
   },
   "file_extension": ".py",
   "mimetype": "text/x-python",
   "name": "python",
   "nbconvert_exporter": "python",
   "pygments_lexer": "ipython3",
   "version": "3.11.11"
  },
  "widgets": {
   "application/vnd.jupyter.widget-state+json": {
    "state": {},
    "version_major": 2,
    "version_minor": 0
   }
  }
 },
 "nbformat": 4,
 "nbformat_minor": 5
}
