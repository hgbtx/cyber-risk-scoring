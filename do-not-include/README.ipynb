{
 "cells": [
  {
   "cell_type": "markdown",
   "id": "83680e6c-baa9-43b2-9b58-7c5ff297f994",
   "metadata": {},
   "source": [
    "# Cyber Risk Scoring"
   ]
  },
  {
   "cell_type": "markdown",
   "id": "6df19550-e4e9-4111-b88b-9c300e5aac70",
   "metadata": {},
   "source": [
    "Overview of Application Concepts"
   ]
  },
  {
   "cell_type": "markdown",
   "id": "36287a97-e236-4bae-9eac-ed8a4de57261",
   "metadata": {},
   "source": [
    "## Table of Contents"
   ]
  },
  {
   "cell_type": "markdown",
   "id": "442c8514-bc2c-48dc-b9d4-5981b9eb79fe",
   "metadata": {},
   "source": [
    "1. Introduction\n",
    "    * Background and motivation\n",
    "    * Topic selection justification\n",
    "2. Data Description\n",
    "    * Dataset source and collection process\n",
    "    * Key variables, statistics (# rows and columns), and relevance to your project\n",
    "3. Data Analysis\n",
    "    * Summary of analysis results, including charts and insights\n",
    "    * Key findings supporting application\n",
    "4. Application Design\n",
    "    * Main components of application:\n",
    "        * dataset\n",
    "        * APIs\n",
    "        * OpenAI\n",
    "    * Architecture or workflow diagram to show integration\n",
    "5. Functions\n",
    "    * Function 1\n",
    "        * Purpose and user interaction\n",
    "        * Integration of dataset, external API, and OpenAI\n",
    "        * Use case screenshots showing outputs\n",
    "    * Function 2\n",
    "        * Purpose and user interaction\n",
    "        * Integration of dataset, external API, and OpenAI\n",
    "        * Use case screenshots showing outputs\n",
    "    * Function 3\n",
    "        * Purpose and user interaction\n",
    "        * Integration of dataset, external API, and OpenAI\n",
    "        * Use case screenshots showing outputs\n",
    "6. Summary\n",
    "    * Project goals, results, & value recap\n",
    "    * Potential future enhancements\n",
    "    * Key lessons learned"
   ]
  },
  {
   "cell_type": "markdown",
   "id": "7cebd3b0-17f5-4890-8ac0-66e459c4614c",
   "metadata": {},
   "source": [
    "## Source Code - Notebook(s)"
   ]
  },
  {
   "cell_type": "markdown",
   "id": "42ed4386-b6dd-4cb0-9fb6-6e044fe3c956",
   "metadata": {},
   "source": [
    "__Link:__ "
   ]
  },
  {
   "cell_type": "markdown",
   "id": "1bbc07c5-2cfb-4f71-aec7-cd3e5e632dc3",
   "metadata": {},
   "source": [
    "## 1. Introduction"
   ]
  },
  {
   "cell_type": "markdown",
   "id": "9750dcf1-acde-40ad-bb96-6a5d422e1818",
   "metadata": {},
   "source": [
    "### Background and motivation"
   ]
  },
  {
   "cell_type": "markdown",
   "id": "6281949e-4eb6-401e-a7f0-e0e0d38ab579",
   "metadata": {},
   "source": []
  },
  {
   "cell_type": "markdown",
   "id": "b3bcf8c6-0e10-44c5-9c15-e63f4c9b2dcd",
   "metadata": {},
   "source": [
    "### Topic selection justification"
   ]
  },
  {
   "cell_type": "markdown",
   "id": "523137db-eb4d-41da-b6d9-5bf2f719b142",
   "metadata": {},
   "source": []
  },
  {
   "cell_type": "markdown",
   "id": "27b2dd1f-401d-45d8-8216-a6d483942bf5",
   "metadata": {},
   "source": [
    "## 2. Data Description"
   ]
  },
  {
   "cell_type": "markdown",
   "id": "39b230e6-0e6f-4c68-907a-b3ced9e0b5b6",
   "metadata": {},
   "source": [
    "### Dataset source"
   ]
  },
  {
   "cell_type": "markdown",
   "id": "dc43d118-c539-47e0-a424-b52abd2bca72",
   "metadata": {},
   "source": [
    "Data for this project was extracted using a framework provided by ManavKhambhayata & Ananya Verma at: \\\n",
    "https://www.kaggle.com/code/manavkhambhayata/cve-2024-database-extraction-framework/notebook\n",
    "\n",
    "Modifications to the above framework were tailored to meet the specific needs of this project. The modified framework can be found at: \\\n",
    "https://github.com/hgbtx/cyber-risk-scoring/blob/main/notebooks/data-ingestion.ipynb"
   ]
  },
  {
   "cell_type": "markdown",
   "id": "be4be04d-0db0-448e-ad70-9b872da99e09",
   "metadata": {},
   "source": [
    "### Collection process"
   ]
  },
  {
   "cell_type": "markdown",
   "id": "47febe9b-a5d6-4b50-beab-25e766f5d636",
   "metadata": {},
   "source": [
    "A static dataset was collected using the above-mentioned extraction framework and acts as the base dataset for the risk score model.\n",
    "\n",
    "Initial Load: ingest a static dataset using the NVD API\n",
    "\n",
    "Ongoing Sync:\n",
    "* Use NVD API endpoint https://services.nvd.nist.gov/rest/json/cves/2.0 with startIndex & resultsPerPage to page through updates. \n",
    "* Extract fields: \n",
    "* Asset Mapping: Parse cpeMatchString to categorize CVEs into business-relevant asset groups (e.g., OS, web servers, databases)"
   ]
  },
  {
   "cell_type": "markdown",
   "id": "39b6a0a2-30d3-498a-8c4c-ad392c971961",
   "metadata": {},
   "source": [
    "### Key variables, statistics (# rows and columns), and relevance to your project"
   ]
  },
  {
   "cell_type": "markdown",
   "id": "a968e5a0-4296-4281-9d5d-eb8a8af06332",
   "metadata": {},
   "source": []
  },
  {
   "cell_type": "markdown",
   "id": "37708f15-f93a-4c73-8b0f-d40d955c6ee9",
   "metadata": {},
   "source": [
    "## 3. Data Analysis"
   ]
  },
  {
   "cell_type": "markdown",
   "id": "0a3210db-6101-4f37-9025-ba732b6ae9d1",
   "metadata": {},
   "source": [
    "### Analysis Results Summary (including charts and insights)"
   ]
  },
  {
   "cell_type": "markdown",
   "id": "4de09ddc-77de-4601-8d07-0c56ff020875",
   "metadata": {},
   "source": []
  },
  {
   "cell_type": "markdown",
   "id": "568f5c94-3bd7-4688-9289-6586ca5e8139",
   "metadata": {},
   "source": [
    "### Key Findings Supporting Application"
   ]
  },
  {
   "cell_type": "markdown",
   "id": "7ab55635-b763-44e6-a58b-ae1c515e5345",
   "metadata": {},
   "source": [
    "* Heatmap: asset vs. RiskScore\n",
    "* Bar Chart: Top 10 assets by score\n",
    "* Time Series: monthly count of new CVEs per asset\n",
    "* Pie Chart: distribution of severity levels (Critical/High/Medium/Low)"
   ]
  },
  {
   "cell_type": "markdown",
   "id": "657deb8a-acd0-43ae-b616-25ebf03d99bc",
   "metadata": {},
   "source": [
    "## 4. Application Design"
   ]
  },
  {
   "cell_type": "markdown",
   "id": "aa9f7ee7-8636-442d-8bb2-96a24cbe7b6b",
   "metadata": {},
   "source": [
    "### Dataset Design"
   ]
  },
  {
   "cell_type": "markdown",
   "id": "9a6eebcf-a5e9-4788-b396-c85445df9347",
   "metadata": {},
   "source": []
  },
  {
   "cell_type": "markdown",
   "id": "a028b8b6-9fc3-4b19-8993-d29a418bcac9",
   "metadata": {},
   "source": [
    "### NIST's CVE (Common Vulnerabilities and Exposures) API"
   ]
  },
  {
   "cell_type": "markdown",
   "id": "d4daa560-0cb5-4da4-801c-989d9c50c74c",
   "metadata": {},
   "source": []
  },
  {
   "cell_type": "markdown",
   "id": "e91d8e96-4af5-42e8-8dfc-0b273ed3483a",
   "metadata": {},
   "source": [
    "### OpenAI API"
   ]
  },
  {
   "cell_type": "markdown",
   "id": "b942ffdf-b565-4060-90b8-c6dc1816d594",
   "metadata": {},
   "source": []
  },
  {
   "cell_type": "markdown",
   "id": "fa1c50b5-41a0-44b4-8d43-b6fb9440a718",
   "metadata": {},
   "source": [
    "### Architecture/Workflow Diagram (to show integration)"
   ]
  },
  {
   "cell_type": "markdown",
   "id": "1b29dd39-2b3c-4c1a-83b9-a2d7ff238686",
   "metadata": {},
   "source": []
  },
  {
   "cell_type": "markdown",
   "id": "955f7bbc-6d59-4762-ae14-ae452ff0bd2a",
   "metadata": {},
   "source": [
    "## 5. Functions"
   ]
  },
  {
   "cell_type": "markdown",
   "id": "eb9598a9-9627-4415-bac3-ea8064a0ea48",
   "metadata": {},
   "source": [
    "### Function 1. Risk Scoring"
   ]
  },
  {
   "cell_type": "markdown",
   "id": "22632459-291d-4e5d-a04e-a0ff47cca78f",
   "metadata": {},
   "source": [
    "For each asset category:\n",
    "* Max Severity = highest CVSS base score\n",
    "* Avg Severity = mean CVSS base score\n",
    "* Vuln Count = total CVEs\n",
    "* Composite Risk Score (normalized 0–1)"
   ]
  },
  {
   "cell_type": "markdown",
   "id": "54c44812-932e-48b4-a437-694ef7a711a5",
   "metadata": {},
   "source": [
    "### Function 2. NVD API for Ongoing Access to Latest Vulnerabilities"
   ]
  },
  {
   "cell_type": "markdown",
   "id": "1e95984c-c4e1-470c-9396-5d73ac91910b",
   "metadata": {},
   "source": [
    "_(Optional)_ VirusTotal API to flag which CVEs have known active exploits."
   ]
  },
  {
   "cell_type": "markdown",
   "id": "08ffc2c7-f24f-475c-b49f-914eab182408",
   "metadata": {},
   "source": [
    "### OpenAI Features"
   ]
  },
  {
   "cell_type": "markdown",
   "id": "b3d5e7bc-0e8c-418d-b200-4c8cbc2cf038",
   "metadata": {},
   "source": [
    "1. Explain My Top Risk\n",
    "    * Input: asset name\n",
    "    * Output: “These CVEs pose the highest risk because…”, plus mitigation hints\n",
    "2. Mitigation Roadmap\n",
    "    * Input: list of high-risk CVEs or asset\n",
    "    * Output: prioritized step-by-step action plan (patch, config hardening, monitoring)\n",
    "3. Risk Trend Insights\n",
    "    * Input: date range\n",
    "    * Output: emerging risk patterns (e.g., “Web servers saw a 40% spike in Critical CVEs in Q1 2025…”)"
   ]
  },
  {
   "cell_type": "markdown",
   "id": "90acb92a-95ff-4c3d-85bf-8991bd7c75a6",
   "metadata": {},
   "source": [
    "## 6. Summary"
   ]
  },
  {
   "cell_type": "markdown",
   "id": "fcb388df-5911-413c-8a8e-3acfbb9cd0cc",
   "metadata": {},
   "source": []
  },
  {
   "cell_type": "markdown",
   "id": "74cb81cb-8d79-4137-b547-94da72de4f5d",
   "metadata": {},
   "source": []
  },
  {
   "cell_type": "markdown",
   "id": "4375fc44-15b7-44d4-b50e-4fe5dad73084",
   "metadata": {},
   "source": []
  },
  {
   "cell_type": "markdown",
   "id": "3559c7f8-00e3-4b68-9073-469827806aeb",
   "metadata": {},
   "source": []
  },
  {
   "cell_type": "markdown",
   "id": "65d5ba16-79c7-4221-9ffb-50409646c963",
   "metadata": {},
   "source": []
  },
  {
   "cell_type": "markdown",
   "id": "c66d3109-6b0e-47e4-bf2a-4e76da784a7a",
   "metadata": {},
   "source": []
  },
  {
   "cell_type": "markdown",
   "id": "f4dbb716-0f3d-4bc9-a242-7378d91f6e24",
   "metadata": {},
   "source": []
  },
  {
   "cell_type": "markdown",
   "id": "9a344ae2-7759-4b64-9c37-99f39122a4d9",
   "metadata": {},
   "source": []
  }
 ],
 "metadata": {
  "kernelspec": {
   "display_name": "Python 3 (ipykernel)",
   "language": "python",
   "name": "python3"
  },
  "language_info": {
   "codemirror_mode": {
    "name": "ipython",
    "version": 3
   },
   "file_extension": ".py",
   "mimetype": "text/x-python",
   "name": "python",
   "nbconvert_exporter": "python",
   "pygments_lexer": "ipython3",
   "version": "3.11.11"
  }
 },
 "nbformat": 4,
 "nbformat_minor": 5
}
