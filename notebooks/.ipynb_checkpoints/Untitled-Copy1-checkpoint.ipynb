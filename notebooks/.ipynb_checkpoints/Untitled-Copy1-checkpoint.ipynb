{
 "cells": [
  {
   "cell_type": "code",
   "execution_count": null,
   "id": "10265df1-a250-4342-9de2-6b3f61ef76ab",
   "metadata": {},
   "outputs": [],
   "source": [
    "\"You are a cybersecurity risk analyst. Below are two tables:\\n\\n\"\n",
    "\"1. Raw counts of vulnerabilities (CVEs) by asset and severity for each quarter.\\n\"\n",
    "\"2. The corresponding quarter-over-quarter percentage change for each asset and severity.\\n\\n\"\n",
    "\"Analyze the data, highlighting emerging risk patterns. Narrate where there were significant spikes or drops,\\n\"\n",
    "\"and call out assets with the most notable changes. Use percentages and time periods\\n\"\n",
    "\"(e.g., 'Web servers saw a 40% spike in Critical CVEs in Q1 2025').\\n\"\n",
    "\"Your response should be titled: Risk Trends Insights.\\n\"\n",
    "\"Finish by suggesting which assets or severities require immediate attention due to recent trends.\\n\\n\""
   ]
  },
  {
   "cell_type": "markdown",
   "id": "36fb7e27-2974-4014-bf4e-cfdd95aa8501",
   "metadata": {},
   "source": [
    "The report must strictly follow this format:\n",
    "### Risk Trends Insights\n",
    "Introduction summary\n",
    "#### 1. \n",
    "\n"
   ]
  },
  {
   "cell_type": "markdown",
   "id": "bfc2a2ca-3e97-4252-8e3c-d92c7fd6e401",
   "metadata": {},
   "source": [
    "\"You are a cybersecurity risk analyst. Your task is to produce a structured vulnerability risk trend report.\"\n",
    "\" The report must strictly follow this format:\\n\\n\"\n",
    "\"### Risk Trends Insights\\n\\n\"\n",
    "\"Summarize high-level patterns across assets and time periods.\\n\\n\"\n",
    "\"#### 1. Adobe Acrobat Reader\\n\"\n",
    "\"- High Severity: Describe quarterly changes using percentages.\\n\"\n",
    "\"- Medium Severity: Same format.\\n\\n\"\n",
    "\"#### 2. Oracle Database Server 19c\\n\"\n",
    "\"- Critical Severity: Report quarterly pattern.\\n\"\n",
    "\"- Medium Severity: Same format.\\n\\n\"\n",
    "\"#### 3. Microsoft Exchange Server 2019\\n\"\n",
    "\"- Critical Severity: Report quarterly pattern.\\n\"\n",
    "\"- Medium Severity: Same format.\\n\\n\"\n",
    "\"#### 4. Emerging Assets\\n\"\n",
    "\"- Identify any new assets with CVEs and describe their severity.\\n\\n\"\n",
    "\"### Assets and Severities Requiring Immediate Attention\\n\"\n",
    "\"- Provide bullet point summaries of assets with high volatility or emerging risks.\\n\\n\"\n",
    "f\"Trend data:\\n{json.dumps(trend.to_dict(orient='records'), indent=2)}\\n\\n\"\n",
    "f\"Quarter-over-quarter changes:\\n{json.dumps(change.to_dict(orient='records'), indent=2)}\""
   ]
  }
 ],
 "metadata": {
  "kernelspec": {
   "display_name": "Python 3 (ipykernel)",
   "language": "python",
   "name": "python3"
  },
  "language_info": {
   "codemirror_mode": {
    "name": "ipython",
    "version": 3
   },
   "file_extension": ".py",
   "mimetype": "text/x-python",
   "name": "python",
   "nbconvert_exporter": "python",
   "pygments_lexer": "ipython3",
   "version": "3.11.11"
  },
  "widgets": {
   "application/vnd.jupyter.widget-state+json": {
    "state": {},
    "version_major": 2,
    "version_minor": 0
   }
  }
 },
 "nbformat": 4,
 "nbformat_minor": 5
}
