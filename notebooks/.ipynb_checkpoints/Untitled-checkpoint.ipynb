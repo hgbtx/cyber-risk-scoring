{
 "cells": [
  {
   "cell_type": "code",
   "execution_count": 7,
   "id": "3747f72a-6522-4528-9c70-3dd750ca62f4",
   "metadata": {},
   "outputs": [],
   "source": [
    "import os, time, json, requests, pandas as pd\n",
    "from pathlib import Path\n",
    "from tqdm.auto import tqdm   # progress bar"
   ]
  },
  {
   "cell_type": "code",
   "execution_count": 28,
   "id": "3d510042-a8ba-4390-990f-42cf7a3d9db3",
   "metadata": {},
   "outputs": [
    {
     "data": {
      "text/html": [
       "<div>\n",
       "<style scoped>\n",
       "    .dataframe tbody tr th:only-of-type {\n",
       "        vertical-align: middle;\n",
       "    }\n",
       "\n",
       "    .dataframe tbody tr th {\n",
       "        vertical-align: top;\n",
       "    }\n",
       "\n",
       "    .dataframe thead th {\n",
       "        text-align: right;\n",
       "    }\n",
       "</style>\n",
       "<table border=\"1\" class=\"dataframe\">\n",
       "  <thead>\n",
       "    <tr style=\"text-align: right;\">\n",
       "      <th></th>\n",
       "      <th>cpeName</th>\n",
       "      <th>Title</th>\n",
       "    </tr>\n",
       "  </thead>\n",
       "  <tbody>\n",
       "    <tr>\n",
       "      <th>0</th>\n",
       "      <td>cpe:2.3:o:cisco:firepower_extensible_operating...</td>\n",
       "      <td>Cisco Firepower Extensible Operating System (F...</td>\n",
       "    </tr>\n",
       "    <tr>\n",
       "      <th>1</th>\n",
       "      <td>cpe:2.3:o:cisco:firepower_extensible_operating...</td>\n",
       "      <td>Cisco Firepower Extensible Operating System (F...</td>\n",
       "    </tr>\n",
       "    <tr>\n",
       "      <th>2</th>\n",
       "      <td>cpe:2.3:o:cisco:firepower_extensible_operating...</td>\n",
       "      <td>Cisco Firepower Extensible Operating System (F...</td>\n",
       "    </tr>\n",
       "    <tr>\n",
       "      <th>3</th>\n",
       "      <td>cpe:2.3:o:cisco:firepower_extensible_operating...</td>\n",
       "      <td>Cisco Firepower Extensible Operating System (F...</td>\n",
       "    </tr>\n",
       "    <tr>\n",
       "      <th>4</th>\n",
       "      <td>cpe:2.3:o:cisco:firepower_extensible_operating...</td>\n",
       "      <td>Cisco Firepower Extensible Operating System (F...</td>\n",
       "    </tr>\n",
       "  </tbody>\n",
       "</table>\n",
       "</div>"
      ],
      "text/plain": [
       "                                             cpeName  \\\n",
       "0  cpe:2.3:o:cisco:firepower_extensible_operating...   \n",
       "1  cpe:2.3:o:cisco:firepower_extensible_operating...   \n",
       "2  cpe:2.3:o:cisco:firepower_extensible_operating...   \n",
       "3  cpe:2.3:o:cisco:firepower_extensible_operating...   \n",
       "4  cpe:2.3:o:cisco:firepower_extensible_operating...   \n",
       "\n",
       "                                               Title  \n",
       "0  Cisco Firepower Extensible Operating System (F...  \n",
       "1  Cisco Firepower Extensible Operating System (F...  \n",
       "2  Cisco Firepower Extensible Operating System (F...  \n",
       "3  Cisco Firepower Extensible Operating System (F...  \n",
       "4  Cisco Firepower Extensible Operating System (F...  "
      ]
     },
     "execution_count": 28,
     "metadata": {},
     "output_type": "execute_result"
    }
   ],
   "source": [
    "df = pd.read_csv('../data/whitelist12.csv')\n",
    "df.head()"
   ]
  },
  {
   "cell_type": "code",
   "execution_count": 29,
   "id": "42e50f5f-76ea-452b-b484-912c886b0a90",
   "metadata": {},
   "outputs": [
    {
     "name": "stdout",
     "output_type": "stream",
     "text": [
      "<class 'pandas.core.frame.DataFrame'>\n",
      "RangeIndex: 1102 entries, 0 to 1101\n",
      "Data columns (total 2 columns):\n",
      " #   Column   Non-Null Count  Dtype \n",
      "---  ------   --------------  ----- \n",
      " 0   cpeName  1102 non-null   object\n",
      " 1   Title    1102 non-null   object\n",
      "dtypes: object(2)\n",
      "memory usage: 17.3+ KB\n"
     ]
    }
   ],
   "source": [
    "df.info()"
   ]
  },
  {
   "cell_type": "code",
   "execution_count": 30,
   "id": "4849b866-cb28-4ca1-9d5f-54ab5bb906c1",
   "metadata": {},
   "outputs": [
    {
     "name": "stdout",
     "output_type": "stream",
     "text": [
      "✅ Intermediate Parquet file safely saved.\n"
     ]
    }
   ],
   "source": [
    "df.to_parquet(\"../data/whitelist12.parquet\", index=False)\n",
    "print(\"✅ Intermediate Parquet file safely saved.\")"
   ]
  },
  {
   "cell_type": "code",
   "execution_count": null,
   "id": "c32d8b0a-8c9d-46ff-9ac1-92c96e3d1520",
   "metadata": {},
   "outputs": [],
   "source": []
  }
 ],
 "metadata": {
  "kernelspec": {
   "display_name": "Python 3 (ipykernel)",
   "language": "python",
   "name": "python3"
  },
  "language_info": {
   "codemirror_mode": {
    "name": "ipython",
    "version": 3
   },
   "file_extension": ".py",
   "mimetype": "text/x-python",
   "name": "python",
   "nbconvert_exporter": "python",
   "pygments_lexer": "ipython3",
   "version": "3.11.11"
  }
 },
 "nbformat": 4,
 "nbformat_minor": 5
}
