{
 "cells": [
  {
   "cell_type": "markdown",
   "id": "59931c88-a57f-4d2f-9c49-eb8866289e20",
   "metadata": {},
   "source": [
    "# F4. AI-Driven Mitigation Recommendations\n",
    "\n",
    "1. Explain My Top Risk\n",
    "    * Input: asset name\n",
    "    * Output: “These CVEs pose the highest risk because…”, plus mitigation hints.\n",
    "2. Mitigation Roadmap\n",
    "    * Input: list of high-risk CVEs or asset\n",
    "    * Output: prioritized step-by-step action plan (patch, config hardening, monitoring).\n",
    "3. Risk Trend Insights\n",
    "    * Input: date range\n",
    "    * Output: narrative on emerging risk patterns (e.g., “Web servers saw a 40% spike in Critical CVEs in Q1 2025…”)"
   ]
  },
  {
   "cell_type": "code",
   "execution_count": null,
   "id": "a0ac2c7a-7e85-4736-9b1c-927cc864ff1b",
   "metadata": {},
   "outputs": [],
   "source": []
  }
 ],
 "metadata": {
  "kernelspec": {
   "display_name": "Python 3 (ipykernel)",
   "language": "python",
   "name": "python3"
  },
  "language_info": {
   "codemirror_mode": {
    "name": "ipython",
    "version": 3
   },
   "file_extension": ".py",
   "mimetype": "text/x-python",
   "name": "python",
   "nbconvert_exporter": "python",
   "pygments_lexer": "ipython3",
   "version": "3.11.11"
  }
 },
 "nbformat": 4,
 "nbformat_minor": 5
}
