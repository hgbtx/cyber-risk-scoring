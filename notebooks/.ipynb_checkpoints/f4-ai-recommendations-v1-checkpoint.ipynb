{
 "cells": [
  {
   "cell_type": "markdown",
   "id": "59931c88-a57f-4d2f-9c49-eb8866289e20",
   "metadata": {},
   "source": [
    "# F4. AI-Driven Mitigation Recommendations\n",
    "\n",
    "1. Explain My Top Risk\n",
    "    * Input: asset name\n",
    "    * Output: “These CVEs pose the highest risk because…”, plus mitigation hints.\n",
    "2. Mitigation Roadmap\n",
    "    * Input: list of high-risk CVEs or asset\n",
    "    * Output: prioritized step-by-step action plan (patch, config hardening, monitoring).\n",
    "3. Risk Trend Insights\n",
    "    * Input: date range\n",
    "    * Output: narrative on emerging risk patterns (e.g., “Web servers saw a 40% spike in Critical CVEs in Q1 2025…”)"
   ]
  },
  {
   "cell_type": "code",
   "execution_count": 1,
   "id": "a0ac2c7a-7e85-4736-9b1c-927cc864ff1b",
   "metadata": {},
   "outputs": [
    {
     "name": "stdout",
     "output_type": "stream",
     "text": [
      "OPENAI_API_KEY is set.\n",
      "API Key: sk-p...J9QA\n"
     ]
    }
   ],
   "source": [
    "# This script can be used to check if you have set the API key as an environment variable.\n",
    "import os\n",
    "from openai import OpenAI\n",
    "\n",
    "api_key = os.getenv('OPENAI_API_KEY')\n",
    "\n",
    "if api_key:\n",
    "    print(\"OPENAI_API_KEY is set.\")\n",
    "    print(\"API Key:\", f\"{api_key[:4]}...{api_key[-4:]}\")  # Be cautious with printing API keys in real-world applications.\n",
    "else:\n",
    "    print(\"OPENAI_API_KEY is not set.\")\n",
    "\n",
    "client = OpenAI(api_key=api_key)\n",
    "\n",
    "prompt = \"Compose a poem that explains the beauty of large language models.\"\n",
    "\n",
    "response = client.chat.completions.create(\n",
    "  model=\"gpt-4o-mini\",\n",
    "  messages=[\n",
    "    {\"role\": \"system\", \"content\": \"You are a poetic assistant, skilled in explaining complex programming concepts with creative flair.\"},\n",
    "    {\"role\": \"user\", \"content\": prompt}\n",
    "  ]\n",
    ")\n",
    "\n",
    "print(response.choices[0].message.content)"
   ]
  },
  {
   "cell_type": "code",
   "execution_count": null,
   "id": "18f76174-3332-4156-8584-923aed60169b",
   "metadata": {},
   "outputs": [],
   "source": []
  }
 ],
 "metadata": {
  "kernelspec": {
   "display_name": "Python 3 (ipykernel)",
   "language": "python",
   "name": "python3"
  },
  "language_info": {
   "codemirror_mode": {
    "name": "ipython",
    "version": 3
   },
   "file_extension": ".py",
   "mimetype": "text/x-python",
   "name": "python",
   "nbconvert_exporter": "python",
   "pygments_lexer": "ipython3",
   "version": "3.11.11"
  },
  "widgets": {
   "application/vnd.jupyter.widget-state+json": {
    "state": {},
    "version_major": 2,
    "version_minor": 0
   }
  }
 },
 "nbformat": 4,
 "nbformat_minor": 5
}
