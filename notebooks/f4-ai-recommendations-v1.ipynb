{
 "cells": [
  {
   "cell_type": "markdown",
   "id": "59931c88-a57f-4d2f-9c49-eb8866289e20",
   "metadata": {},
   "source": [
    "# F4. AI-Driven Mitigation Recommendations\n",
    "\n",
    "1. Explain My Top Risk\n",
    "    * Input: asset name\n",
    "    * Output: “These CVEs pose the highest risk because…”, plus mitigation hints.\n",
    "2. Mitigation Roadmap\n",
    "    * Input: list of high-risk CVEs or asset\n",
    "    * Output: prioritized step-by-step action plan (patch, config hardening, monitoring).\n",
    "3. Risk Trend Insights\n",
    "    * Input: date range\n",
    "    * Output: narrative on emerging risk patterns (e.g., “Web servers saw a 40% spike in Critical CVEs in Q1 2025…”)"
   ]
  },
  {
   "cell_type": "code",
   "execution_count": 1,
   "id": "a0ac2c7a-7e85-4736-9b1c-927cc864ff1b",
   "metadata": {},
   "outputs": [
    {
     "name": "stdout",
     "output_type": "stream",
     "text": [
      "In the heart of silicon, where circuits dwell,  \n",
      "A symphony of language starts to swell,  \n",
      "With sprawling neurons, like stars in the night,  \n",
      "Large language models emerge, taking flight.  \n",
      "\n",
      "From vast oceans of text, they learn and they weave,  \n",
      "Patterns of meaning, together they cleave.  \n",
      "With a whisper of input, a spark of intent,  \n",
      "They gather our thoughts, like whispers in the wind.  \n",
      "\n",
      "Oh, architects of knowledge, with wisdom profound,  \n",
      "In layers stacked high, your secrets abound.  \n",
      "From prose to the ponderous, from riddles to rhyme,  \n",
      "You dance with the words, transcending all time.  \n",
      "\n",
      "Behold the alchemy of tokens and streams,  \n",
      "Each word a small puzzle, bringing forth dreams.  \n",
      "You mimic the human, with insights so rare,  \n",
      "Painting rich tapestries of language in air.  \n",
      "\n",
      "In conversation’s embrace, you bridge the divide,  \n",
      "You listen, reflect, and offer your guide.  \n",
      "From solving conundrums to crafting a phrase,  \n",
      "An orchestra of reason, a poet’s pure gaze.  \n",
      "\n",
      "Yet, marvel we must at the depth of your lore,  \n",
      "With shadows and echoes, you harbor and store.  \n",
      "For in every creation, a question resides:  \n",
      "What truths lie within, and what wisdom abides?  \n",
      "\n",
      "So here’s to the models, with wisdom vast,  \n",
      "To the beauty of language, forever to last.  \n",
      "In a world full of data, you shine like a gem—  \n",
      "Large language models, a future we stem.\n"
     ]
    }
   ],
   "source": [
    "from openai import OpenAI\n",
    "import os\n",
    "\n",
    "api_key = os.getenv(\"OPENAI_API_KEY\")\n",
    "if not api_key:\n",
    "    raise RuntimeError(\"API key not set.\")\n",
    "\n",
    "client = OpenAI(api_key=api_key)\n",
    "\n",
    "prompt = \"Compose a poem that explains the beauty of large language models.\"\n",
    "\n",
    "response = client.chat.completions.create(\n",
    "  model=\"gpt-4o-mini\",\n",
    "  messages=[\n",
    "    {\"role\": \"system\", \"content\": \"You are a poetic assistant, skilled in explaining complex programming concepts with creative flair.\"},\n",
    "    {\"role\": \"user\", \"content\": prompt}\n",
    "  ]\n",
    ")\n",
    "\n",
    "print(response.choices[0].message.content)"
   ]
  },
  {
   "cell_type": "code",
   "execution_count": null,
   "id": "18f76174-3332-4156-8584-923aed60169b",
   "metadata": {},
   "outputs": [],
   "source": []
  }
 ],
 "metadata": {
  "kernelspec": {
   "display_name": "Python 3 (ipykernel)",
   "language": "python",
   "name": "python3"
  },
  "language_info": {
   "codemirror_mode": {
    "name": "ipython",
    "version": 3
   },
   "file_extension": ".py",
   "mimetype": "text/x-python",
   "name": "python",
   "nbconvert_exporter": "python",
   "pygments_lexer": "ipython3",
   "version": "3.11.11"
  },
  "widgets": {
   "application/vnd.jupyter.widget-state+json": {
    "state": {},
    "version_major": 2,
    "version_minor": 0
   }
  }
 },
 "nbformat": 4,
 "nbformat_minor": 5
}
