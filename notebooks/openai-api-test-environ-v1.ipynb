{
 "cells": [
  {
   "cell_type": "code",
   "execution_count": 2,
   "id": "40b9f942-0e26-4da5-a4e4-59640721a83a",
   "metadata": {},
   "outputs": [
    {
     "name": "stdout",
     "output_type": "stream",
     "text": [
      "In morning's gentle amber glow,  \n",
      "A whisper calls, a soft hello.  \n",
      "The breeze it stirs the leaves anew,  \n",
      "And birds begin their song to woo.  \n",
      "\n",
      "Across the fields the sunlight plays,  \n",
      "Awakening the sleepy days.  \n",
      "A melody of dawn’s first light,  \n",
      "Dances in the fading night.  \n",
      "\n",
      "From dewdrop's shimmer on the grass,  \n",
      "To azure skies of polished glass,  \n",
      "The world awakens, warm and slow,  \n",
      "To greet the day with sweet hello.  \n",
      "\n",
      "So here’s a verse, both kind and bright,  \n",
      "To fill your heart with pure delight.  \n",
      "Upon the morning's tender hue,  \n",
      "I send this gentle hello to you.  \n"
     ]
    }
   ],
   "source": [
    "from openai import OpenAI\n",
    "import os\n",
    "\n",
    "api_key = os.getenv(\"OPENAI_API_KEY\")\n",
    "if not api_key:\n",
    "    raise RuntimeError(\"API key not set.\")\n",
    "\n",
    "client = OpenAI(api_key=api_key)\n",
    "response = client.chat.completions.create(\n",
    "    model=\"gpt-4o\",\n",
    "    messages=[\n",
    "        {\"role\": \"system\", \"content\": \"You are a poetic assistant.\"},\n",
    "        {\"role\": \"user\", \"content\": \"Say hello in a poem.\"}\n",
    "    ]\n",
    ")\n",
    "print(response.choices[0].message.content)"
   ]
  },
  {
   "cell_type": "code",
   "execution_count": null,
   "id": "26936fc8-63bc-4ebd-a466-c8bd050e4870",
   "metadata": {},
   "outputs": [],
   "source": [
    "        df['published'] = pd.to_datetime(df['published'], errors='coerce')\n",
    "        df['month'] = df['published'].dt.to_period('M')\n",
    "        df['year'] = df['published'].dt.to_period('Y')\n",
    "        monthly_cves = df.groupby(['month', 'Title'])['cveID'].nunique().unstack(fill_value=0)\n",
    "        monthly_cves.plot(figsize=(14,7))\n",
    "        plt.title(\"Monthly Count of New CVEs per Asset\")\n",
    "        plt.ylabel(\"Number of New CVEs\")\n",
    "        plt.xlabel(\"Month\")\n",
    "        plt.legend(title='Asset', bbox_to_anchor=(1.05, 1), loc='upper left')\n",
    "        plt.tight_layout()\n",
    "        plt.show()"
   ]
  },
  {
   "cell_type": "code",
   "execution_count": null,
   "id": "b05277c6-bd5a-448d-805e-914a767300c1",
   "metadata": {},
   "outputs": [],
   "source": []
  }
 ],
 "metadata": {
  "kernelspec": {
   "display_name": "Python 3 (ipykernel)",
   "language": "python",
   "name": "python3"
  },
  "language_info": {
   "codemirror_mode": {
    "name": "ipython",
    "version": 3
   },
   "file_extension": ".py",
   "mimetype": "text/x-python",
   "name": "python",
   "nbconvert_exporter": "python",
   "pygments_lexer": "ipython3",
   "version": "3.11.11"
  },
  "widgets": {
   "application/vnd.jupyter.widget-state+json": {
    "state": {},
    "version_major": 2,
    "version_minor": 0
   }
  }
 },
 "nbformat": 4,
 "nbformat_minor": 5
}
